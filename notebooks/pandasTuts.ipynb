{
  "nbformat": 4,
  "nbformat_minor": 0,
  "metadata": {
    "colab": {
      "provenance": [],
      "authorship_tag": "ABX9TyOTkQzwAzW2Ga1FvAFzNaPw",
      "include_colab_link": true
    },
    "kernelspec": {
      "name": "python3",
      "display_name": "Python 3"
    },
    "language_info": {
      "name": "python"
    }
  },
  "cells": [
    {
      "cell_type": "markdown",
      "metadata": {
        "id": "view-in-github",
        "colab_type": "text"
      },
      "source": [
        "<a href=\"https://colab.research.google.com/github/ZaibiX/ml-logs/blob/main/notebooks/pandasTuts.ipynb\" target=\"_parent\"><img src=\"https://colab.research.google.com/assets/colab-badge.svg\" alt=\"Open In Colab\"/></a>"
      ]
    },
    {
      "cell_type": "code",
      "execution_count": 16,
      "metadata": {
        "colab": {
          "base_uri": "https://localhost:8080/"
        },
        "id": "ZRFiLKyotEnS",
        "outputId": "6f79c701-c438-4c80-a75f-aca4d69ceec2"
      },
      "outputs": [
        {
          "output_type": "stream",
          "name": "stdout",
          "text": [
            "     FirstName LastName Age\n",
            "row1       Ali    Ahmad  16\n",
            "row2    Hassan    Usman  19\n",
            "row3     Tariq     Aziz  25\n",
            "<class 'pandas.core.frame.DataFrame'>\n",
            "Index: 3 entries, row1 to row3\n",
            "Data columns (total 3 columns):\n",
            " #   Column     Non-Null Count  Dtype \n",
            "---  ------     --------------  ----- \n",
            " 0   FirstName  3 non-null      object\n",
            " 1   LastName   3 non-null      object\n",
            " 2   Age        3 non-null      object\n",
            "dtypes: object(3)\n",
            "memory usage: 96.0+ bytes\n",
            "None\n",
            "       FirstName LastName Age\n",
            "count          3        3   3\n",
            "unique         3        3   3\n",
            "top          Ali    Ahmad  16\n",
            "freq           1        1   1\n"
          ]
        }
      ],
      "source": [
        "\n",
        "#Importing libraries\n",
        "import pandas as pd;\n",
        "import numpy as np;\n",
        "\n",
        "# Creating 2D array as a data\n",
        "data = np.array([[\"Ali\", \"Ahmad\", 16],\n",
        "                [\"Hassan\", \"Usman\", 19],\n",
        "                [\"Tariq\", \"Aziz\", 25]]);\n",
        "\n",
        "# print(data);\n",
        "\n",
        "# A dataframe is a data structure in panda\n",
        "\n",
        "df = pd.DataFrame(data=data, index=[\"row1\", \"row2\", \"row3\"],columns=[\"FirstName\",\"LastName\",\"Age\"]);\n",
        "# print(df);\n",
        "\n",
        "# df.head() -> to print top five\n",
        "# df.head(10) -> top 10\n",
        "# df.tail() -> to print last five\n",
        "print(df.tail());\n",
        "\n",
        "print(df.info());\n",
        "\n",
        "print(df.describe());"
      ]
    },
    {
      "cell_type": "code",
      "source": [
        "\n",
        "#indexing\n",
        "#columnname, rowindex[loc], rowindex columnindex number[. iloc]\n",
        "\n",
        "# indexing using column\n",
        "\n",
        "print(df.head());\n",
        "\n",
        "print(\"\\nUsing only one column\\n\",df[\"FirstName\"]);\n",
        "\n",
        "print(\"\\nUsing more than one column\\n\",df[[\"FirstName\", \"Age\"]]);\n",
        "\n",
        "print(\"\\n\\nTypes\\n\")\n",
        "print(type(df[\"FirstName\"])); # series -> either a column or a row (| or -)\n",
        "print(type(df[[\"FirstName\", \"Age\"]])); # Dataframe -> Multiple columns or rows"
      ],
      "metadata": {
        "colab": {
          "base_uri": "https://localhost:8080/"
        },
        "id": "B5BQIQZVzZtr",
        "outputId": "1ad2e097-c87f-422f-ef1e-8cd91629c6f2"
      },
      "execution_count": 33,
      "outputs": [
        {
          "output_type": "stream",
          "name": "stdout",
          "text": [
            "     FirstName LastName Age\n",
            "row1       Ali    Ahmad  16\n",
            "row2    Hassan    Usman  19\n",
            "row3     Tariq     Aziz  25\n",
            "\n",
            "Using only one column\n",
            " row1       Ali\n",
            "row2    Hassan\n",
            "row3     Tariq\n",
            "Name: FirstName, dtype: object\n",
            "\n",
            "Using more than one column\n",
            "      FirstName Age\n",
            "row1       Ali  16\n",
            "row2    Hassan  19\n",
            "row3     Tariq  25\n",
            "\n",
            "\n",
            "Types\n",
            "\n",
            "<class 'pandas.core.series.Series'>\n",
            "<class 'pandas.core.frame.DataFrame'>\n"
          ]
        }
      ]
    },
    {
      "cell_type": "code",
      "source": [
        "\n",
        "# indexing using row index name\n",
        "print(df, \"\\n\")\n",
        "print(\"Indexing using single row: \\n\",df.loc[\"row2\"]);\n",
        "print(\"\\nIndexing using multiple rows: \\n\",df.loc[[\"row1\", \"row2\"]]);"
      ],
      "metadata": {
        "colab": {
          "base_uri": "https://localhost:8080/"
        },
        "id": "QE-7WGuv3aCO",
        "outputId": "7426eb1d-d04e-4ced-fbd6-6af6040c8206"
      },
      "execution_count": 41,
      "outputs": [
        {
          "output_type": "stream",
          "name": "stdout",
          "text": [
            "     FirstName LastName Age\n",
            "row1       Ali    Ahmad  16\n",
            "row2    Hassan    Usman  19\n",
            "row3     Tariq     Aziz  25 \n",
            "\n",
            "Indexing using single row: \n",
            " FirstName    Hassan\n",
            "LastName      Usman\n",
            "Age              19\n",
            "Name: row2, dtype: object\n",
            "\n",
            "Indexing using multiple rows: \n",
            "      FirstName LastName Age\n",
            "row1       Ali    Ahmad  16\n",
            "row2    Hassan    Usman  19\n"
          ]
        }
      ]
    },
    {
      "cell_type": "code",
      "source": [
        "\n",
        "# Indexing using both row index and column index\n",
        "\n",
        "print(df);\n",
        "print(\"\\n\\n\");\n",
        "print(df.iloc[0:1,0:3]);\n",
        "print(\"\\n\\n\");\n",
        "print(df.iloc[:, [0, -1]]);"
      ],
      "metadata": {
        "colab": {
          "base_uri": "https://localhost:8080/"
        },
        "id": "ZieFzrNV8fnD",
        "outputId": "7eaaf4db-b20e-4ed8-ddd0-8cd72b39eeb1"
      },
      "execution_count": 46,
      "outputs": [
        {
          "output_type": "stream",
          "name": "stdout",
          "text": [
            "     FirstName LastName Age\n",
            "row1       Ali    Ahmad  16\n",
            "row2    Hassan    Usman  19\n",
            "row3     Tariq     Aziz  25\n",
            "\n",
            "\n",
            "\n",
            "     FirstName LastName Age\n",
            "row1       Ali    Ahmad  16\n",
            "\n",
            "\n",
            "\n",
            "     FirstName Age\n",
            "row1       Ali  16\n",
            "row2    Hassan  19\n",
            "row3     Tariq  25\n"
          ]
        }
      ]
    },
    {
      "cell_type": "code",
      "source": [
        "\n",
        "# convert dataframe to array\n",
        "\n",
        "print(df.values);"
      ],
      "metadata": {
        "colab": {
          "base_uri": "https://localhost:8080/"
        },
        "id": "dlYTrrAl-RNy",
        "outputId": "79f1a3c6-bf89-4d49-f666-df80cb616839"
      },
      "execution_count": 48,
      "outputs": [
        {
          "output_type": "stream",
          "name": "stdout",
          "text": [
            "[['Ali' 'Ahmad' '16']\n",
            " ['Hassan' 'Usman' '19']\n",
            " ['Tariq' 'Aziz' '25']]\n"
          ]
        }
      ]
    },
    {
      "cell_type": "code",
      "source": [
        "\n",
        "# basic operations\n",
        "\n",
        "df=pd.DataFrame(data=np.array([[1,2,3,np.nan],[5,6,7,8],[7,2,4,8],[5,2,2,3],[1,4,4,4]]), index=[\"row1\", \"row2\",\"row3\", \"row4\", \"row5\"], columns=[\"column1\", \"column2\", \"column3\", \"column4\"] );\n",
        "\n",
        "print(df);\n",
        "\n",
        "print(df.isnull().sum());\n",
        "\n",
        "print(\"\\n\\n\");\n",
        "\n",
        "# Count values in the column\n",
        "print(df['column2'].value_counts());\n",
        "\n",
        "# Unique values\n",
        "print(\"\\nUnique\\n\",df['column2'].unique());\n",
        "\n",
        "print(\"\\n\\n\", df[df['column2']>2]) # conditional indexing"
      ],
      "metadata": {
        "colab": {
          "base_uri": "https://localhost:8080/"
        },
        "id": "JwHYYEJl_ML6",
        "outputId": "e2b02c08-fa02-4a12-8964-cbb3aacf28e9"
      },
      "execution_count": 62,
      "outputs": [
        {
          "output_type": "stream",
          "name": "stdout",
          "text": [
            "column1    0\n",
            "column2    0\n",
            "column3    0\n",
            "column4    1\n",
            "dtype: int64\n",
            "\n",
            "\n",
            "\n",
            "column2\n",
            "2.0    3\n",
            "6.0    1\n",
            "4.0    1\n",
            "Name: count, dtype: int64\n",
            "\n",
            "Unique\n",
            " [2. 6. 4.]\n",
            "\n",
            "\n",
            "       column1  column2  column3  column4\n",
            "row2      5.0      6.0      7.0      8.0\n",
            "row5      1.0      4.0      4.0      4.0\n"
          ]
        }
      ]
    }
  ]
}