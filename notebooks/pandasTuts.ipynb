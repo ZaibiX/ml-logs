{
  "nbformat": 4,
  "nbformat_minor": 0,
  "metadata": {
    "colab": {
      "provenance": [],
      "authorship_tag": "ABX9TyPCR5bY6oKFCCCOkt7Xd970",
      "include_colab_link": true
    },
    "kernelspec": {
      "name": "python3",
      "display_name": "Python 3"
    },
    "language_info": {
      "name": "python"
    }
  },
  "cells": [
    {
      "cell_type": "markdown",
      "metadata": {
        "id": "view-in-github",
        "colab_type": "text"
      },
      "source": [
        "<a href=\"https://colab.research.google.com/github/ZaibiX/ml-logs/blob/main/notebooks/pandasTuts.ipynb\" target=\"_parent\"><img src=\"https://colab.research.google.com/assets/colab-badge.svg\" alt=\"Open In Colab\"/></a>"
      ]
    },
    {
      "cell_type": "code",
      "execution_count": 16,
      "metadata": {
        "colab": {
          "base_uri": "https://localhost:8080/"
        },
        "id": "ZRFiLKyotEnS",
        "outputId": "6f79c701-c438-4c80-a75f-aca4d69ceec2"
      },
      "outputs": [
        {
          "output_type": "stream",
          "name": "stdout",
          "text": [
            "     FirstName LastName Age\n",
            "row1       Ali    Ahmad  16\n",
            "row2    Hassan    Usman  19\n",
            "row3     Tariq     Aziz  25\n",
            "<class 'pandas.core.frame.DataFrame'>\n",
            "Index: 3 entries, row1 to row3\n",
            "Data columns (total 3 columns):\n",
            " #   Column     Non-Null Count  Dtype \n",
            "---  ------     --------------  ----- \n",
            " 0   FirstName  3 non-null      object\n",
            " 1   LastName   3 non-null      object\n",
            " 2   Age        3 non-null      object\n",
            "dtypes: object(3)\n",
            "memory usage: 96.0+ bytes\n",
            "None\n",
            "       FirstName LastName Age\n",
            "count          3        3   3\n",
            "unique         3        3   3\n",
            "top          Ali    Ahmad  16\n",
            "freq           1        1   1\n"
          ]
        }
      ],
      "source": [
        "\n",
        "#Importing libraries\n",
        "import pandas as pd;\n",
        "import numpy as np;\n",
        "\n",
        "# Creating 2D array as a data\n",
        "data = np.array([[\"Ali\", \"Ahmad\", 16],\n",
        "                [\"Hassan\", \"Usman\", 19],\n",
        "                [\"Tariq\", \"Aziz\", 25]]);\n",
        "\n",
        "# print(data);\n",
        "\n",
        "# A dataframe is a data structure in panda\n",
        "\n",
        "df = pd.DataFrame(data=data, index=[\"row1\", \"row2\", \"row3\"],columns=[\"FirstName\",\"LastName\",\"Age\"]);\n",
        "# print(df);\n",
        "\n",
        "# df.head() -> to print top five\n",
        "# df.head(10) -> top 10\n",
        "# df.tail() -> to print last five\n",
        "print(df.tail());\n",
        "\n",
        "print(df.info());\n",
        "\n",
        "print(df.describe());"
      ]
    },
    {
      "cell_type": "code",
      "source": [],
      "metadata": {
        "id": "B5BQIQZVzZtr"
      },
      "execution_count": null,
      "outputs": []
    }
  ]
}