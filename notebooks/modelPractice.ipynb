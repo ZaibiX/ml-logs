{
  "nbformat": 4,
  "nbformat_minor": 0,
  "metadata": {
    "colab": {
      "provenance": [],
      "authorship_tag": "ABX9TyPc92u7Jxp/rsoEJB8WHaP+",
      "include_colab_link": true
    },
    "kernelspec": {
      "name": "python3",
      "display_name": "Python 3"
    },
    "language_info": {
      "name": "python"
    }
  },
  "cells": [
    {
      "cell_type": "markdown",
      "metadata": {
        "id": "view-in-github",
        "colab_type": "text"
      },
      "source": [
        "<a href=\"https://colab.research.google.com/github/ZaibiX/ml-logs/blob/main/notebooks/modelPractice.ipynb\" target=\"_parent\"><img src=\"https://colab.research.google.com/assets/colab-badge.svg\" alt=\"Open In Colab\"/></a>"
      ]
    },
    {
      "cell_type": "code",
      "execution_count": 1,
      "metadata": {
        "colab": {
          "base_uri": "https://localhost:8080/"
        },
        "id": "FXIkcNeXz9vQ",
        "outputId": "17e87c0a-2808-4c2d-9646-8da415134b5d"
      },
      "outputs": [
        {
          "output_type": "stream",
          "name": "stdout",
          "text": [
            "Epoch 0, Cost: 225.0000, Theta: [0.2 0.7 0.9 1.1]\n",
            "Epoch 200, Cost: 0.0176, Theta: [0.18722904 1.43758504 1.62481409 1.81204313]\n",
            "Epoch 400, Cost: 0.0049, Theta: [0.09910747 1.54540503 1.6445125  1.74361997]\n",
            "Epoch 600, Cost: 0.0014, Theta: [0.05246136 1.60247826 1.65493962 1.70740098]\n",
            "Epoch 800, Cost: 0.0004, Theta: [0.0277698  1.6326893  1.6604591  1.68822889]\n",
            "\n",
            "Final parameters (theta): [0.01474644 1.64862385 1.66337029 1.67811674]\n",
            "Predictions: [10.02446109 15.01457198 20.00468286 24.99479374 29.98490463]\n",
            "Actual: [10. 15. 20. 25. 30.]\n"
          ]
        }
      ],
      "source": [
        "# Batch gradient descent\n",
        "\n",
        "import numpy as np\n",
        "\n",
        "# Sample dataset (5 samples, 3 features each)\n",
        "# X shape = (5, 3)\n",
        "X = np.array([\n",
        "    [1, 2, 3],\n",
        "    [2, 3, 4],\n",
        "    [3, 4, 5],\n",
        "    [4, 5, 6],\n",
        "    [5, 6, 7]\n",
        "], dtype=float)\n",
        "\n",
        "# y values (target)\n",
        "y = np.array([10, 15, 20, 25, 30], dtype=float)\n",
        "\n",
        "# Add bias term (x0 = 1 for each sample)\n",
        "m, n = X.shape\n",
        "X_bias = np.c_[np.ones((m, 1)), X]  # shape = (5, 4)\n",
        "\n",
        "# Initialize parameters (theta0, theta1, theta2, theta3)\n",
        "theta = np.zeros(n + 1)  # [θ0, θ1, θ2, θ3]\n",
        "\n",
        "# Hyperparameters\n",
        "alpha = 0.01  # learning rate\n",
        "epochs = 1000  # iterations\n",
        "\n",
        "# Gradient Descent Loop\n",
        "for epoch in range(epochs):\n",
        "    predictions = X_bias.dot(theta)         # hθ(x) for all samples\n",
        "    errors = predictions - y                # difference (vector)\n",
        "\n",
        "    gradients = (1/m) * X_bias.T.dot(errors)  # vectorized gradient\n",
        "    theta = theta - alpha * gradients         # update all θj at once\n",
        "\n",
        "    # Print cost occasionally\n",
        "    if epoch % 200 == 0:\n",
        "        cost = (1/(2*m)) * np.sum(errors ** 2)\n",
        "        print(f\"Epoch {epoch}, Cost: {cost:.4f}, Theta: {theta}\")\n",
        "\n",
        "# Final parameters\n",
        "print(\"\\nFinal parameters (theta):\", theta)\n",
        "\n",
        "# Predictions for training set\n",
        "predictions = X_bias.dot(theta)\n",
        "print(\"Predictions:\", predictions)\n",
        "print(\"Actual:\", y)\n"
      ]
    },
    {
      "cell_type": "code",
      "source": [
        "import random\n",
        "\n",
        "# Sample dataset (5 samples, 3 features each)\n",
        "X = [\n",
        "    [1.0, 2.0, 3.0],   # sample 1\n",
        "    [2.0, 3.0, 4.0],   # sample 2\n",
        "    [3.0, 4.0, 5.0],   # sample 3\n",
        "    [4.0, 5.0, 6.0],   # sample 4\n",
        "    [5.0, 6.0, 7.0]    # sample 5\n",
        "]\n",
        "y = [6.0, 9.0, 12.0, 15.0, 18.0]  # target values\n",
        "\n",
        "m = len(X)          # number of samples\n",
        "n = len(X[0])       # number of features\n",
        "alpha = 0.01        # learning rate\n",
        "epochs = 1000       # iterations\n",
        "\n",
        "# Initialize theta (n features + 1 bias)\n",
        "theta = [random.random() for _ in range(n + 1)]\n",
        "\n",
        "# Gradient descent\n",
        "for epoch in range(epochs):\n",
        "    gradients = [0.0 for _ in range(n + 1)]  # one gradient per theta\n",
        "\n",
        "    # Loop over each sample\n",
        "    for i in range(m):\n",
        "        # Compute hypothesis h_theta(x)\n",
        "        h = theta[0]  # bias term\n",
        "        for j in range(n):\n",
        "            h += theta[j+1] * X[i][j]\n",
        "\n",
        "        error = h - y[i]\n",
        "\n",
        "        # Accumulate gradient for each theta\n",
        "        gradients[0] += error * 1  # bias (x0 = 1)\n",
        "        for j in range(n):\n",
        "            gradients[j+1] += error * X[i][j]\n",
        "\n",
        "    # Average the gradients\n",
        "    for j in range(n+1):\n",
        "        gradients[j] /= m\n",
        "\n",
        "    # Update thetas\n",
        "    for j in range(n+1):\n",
        "        theta[j] -= alpha * gradients[j]\n",
        "\n",
        "print(\"Final parameters (theta):\", theta)\n",
        "\n",
        "# Predict with trained theta\n",
        "print(\"Prediction for [6,7,8]:\", theta[0] + theta[1]*6 + theta[2]*7 + theta[3]*8)\n",
        "print(\"Prediction for [6,7,8]:\", theta[0] + theta[1]*4 + theta[2]*5 + theta[3]*6)"
      ],
      "metadata": {
        "colab": {
          "base_uri": "https://localhost:8080/"
        },
        "id": "YxUNepgJ58kB",
        "outputId": "e9d6693e-1b6b-4958-e655-80cb93dc8611"
      },
      "execution_count": 3,
      "outputs": [
        {
          "output_type": "stream",
          "name": "stdout",
          "text": [
            "Final parameters (theta): [0.8241240537472481, 1.5154694601904488, 0.7569069965279557, 0.7209956282229356]\n",
            "Prediction for [6,7,8]: 20.983254816369115\n",
            "Prediction for [6,7,8]: 14.996510646486435\n"
          ]
        }
      ]
    }
  ]
}